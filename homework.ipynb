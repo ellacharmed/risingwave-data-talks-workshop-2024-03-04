{
 "cells": [
  {
   "cell_type": "markdown",
   "metadata": {},
   "source": [
    "# Homework\n",
    "\n",
    "## Setting up\n",
    "\n",
    "In order to get a static set of results, we will use historical data from the dataset.\n",
    "\n",
    "Run the following commands:\n",
    "```bash\n",
    "# Load the cluster op commands.\n",
    "source commands.sh\n",
    "# First, reset the cluster:\n",
    "clean-cluster\n",
    "# Start a new cluster\n",
    "start-cluster\n",
    "# wait for cluster to start\n",
    "sleep 5\n",
    "# Seed historical data instead of real-time data\n",
    "seed-kafka\n",
    "# Recreate trip data table\n",
    "psql -f risingwave-sql/table/trip_data.sql\n",
    "# Wait for a while for the trip_data table to be populated.\n",
    "sleep 5\n",
    "# Check that you have 100K records in the trip_data table\n",
    "# You may rerun it if the count is not 100K\n",
    "psql -c \"SELECT COUNT(*) FROM trip_data\"\n",
    "```\n"
   ]
  },
  {
   "cell_type": "markdown",
   "metadata": {},
   "source": [
    "## Question 0\n",
    "\n",
    "_This question is just a warm-up to introduce dynamic filter, please attempt it before viewing its solution._\n",
    "\n",
    "What are the dropoff taxi zones at the latest dropoff times?\n",
    "\n",
    "For this part, we will use the [dynamic filter pattern](https://docs.risingwave.com/docs/current/sql-pattern-dynamic-filters/).\n",
    "\n",
    "<details>\n",
    "<summary>Solution</summary>\n",
    "\n",
    "```sql\n",
    "CREATE MATERIALIZED VIEW latest_dropoff_time AS\n",
    "    WITH t AS (\n",
    "        SELECT MAX(tpep_dropoff_datetime) AS latest_dropoff_time\n",
    "        FROM trip_data\n",
    "    )\n",
    "    SELECT taxi_zone.Zone as taxi_zone, latest_dropoff_time\n",
    "    FROM t,\n",
    "            trip_data\n",
    "    JOIN taxi_zone\n",
    "        ON trip_data.DOLocationID = taxi_zone.location_id\n",
    "    WHERE trip_data.tpep_dropoff_datetime = t.latest_dropoff_time;\n",
    "\n",
    "--    taxi_zone    | latest_dropoff_time\n",
    "-- ----------------+---------------------\n",
    "--  Midtown Center | 2022-01-03 17:24:54\n",
    "-- (1 row)\n",
    "```\n",
    "\n",
    "</details>"
   ]
  },
  {
   "cell_type": "code",
   "execution_count": null,
   "metadata": {},
   "outputs": [],
   "source": []
  },
  {
   "cell_type": "markdown",
   "metadata": {},
   "source": [
    "## Question 1\n",
    "\n",
    "Create a materialized view to compute the average, min and max trip time **between each taxi zone**.\n",
    "\n",
    "From this MV, find the pair of taxi zones with the highest average trip time.\n",
    "You may need to use the [dynamic filter pattern](https://docs.risingwave.com/docs/current/sql-pattern-dynamic-filters/) for this.\n",
    "\n",
    "Bonus (no marks): Create an MV which can identify anomalies in the data. For example, if the average trip time between two zones is 1 minute,\n",
    "but the max trip time is 10 minutes and 20 minutes respectively.\n",
    "\n",
    "Options:\n",
    "1. Yorkville East, Steinway\n",
    "2. Murray Hill, Midwood\n",
    "3. East Flatbush/Farragut, East Harlem North\n",
    "4. Midtown Center, University Heights/Morris Heights"
   ]
  },
  {
   "cell_type": "code",
   "execution_count": null,
   "metadata": {},
   "outputs": [],
   "source": []
  },
  {
   "cell_type": "markdown",
   "metadata": {},
   "source": [
    "## Question 2\n",
    "\n",
    "Recreate the MV(s) in question 1, to also find the **number of trips** for the pair of taxi zones with the highest average trip time.\n",
    "\n",
    "Options:\n",
    "1. 5\n",
    "2. 3\n",
    "3. 10\n",
    "4. 1"
   ]
  },
  {
   "cell_type": "code",
   "execution_count": null,
   "metadata": {},
   "outputs": [],
   "source": []
  },
  {
   "cell_type": "code",
   "execution_count": null,
   "metadata": {},
   "outputs": [],
   "source": [
    "## Question 3\n",
    "\n",
    "From the latest pickup time to 17 hours before, what are the top 3 busiest zones in terms of number of pickups?\n",
    "For example if the latest pickup time is 2020-01-01 12:00:00,\n",
    "then the query should return the top 3 busiest zones from 2020-01-01 11:00:00 to 2020-01-01 12:00:00.\n",
    "\n",
    "HINT: You can use [dynamic filter pattern](https://docs.risingwave.com/docs/current/sql-pattern-dynamic-filters/)\n",
    "to create a filter condition based on the latest pickup time.\n",
    "\n",
    "NOTE: For this question `17 hours` was picked to ensure we have enough data to work with.\n",
    "\n",
    "Options:\n",
    "1. Clinton East, Upper East Side North, Penn Station\n",
    "2. LaGuardia Airport, Lincoln Square East, JFK Airport\n",
    "3. Midtown Center, Upper East Side South, Upper East Side North\n",
    "4. LaGuardia Airport, Midtown Center, Upper East Side North"
   ]
  },
  {
   "cell_type": "code",
   "execution_count": null,
   "metadata": {},
   "outputs": [],
   "source": []
  }
 ],
 "metadata": {
  "kernelspec": {
   "display_name": "Python 3",
   "language": "python",
   "name": "python3"
  },
  "language_info": {
   "name": "python",
   "version": "3.11.8"
  }
 },
 "nbformat": 4,
 "nbformat_minor": 2
}
